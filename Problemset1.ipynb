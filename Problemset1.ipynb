{
 "cells": [
  {
   "cell_type": "markdown",
   "id": "c271c008",
   "metadata": {},
   "source": [
    "Q.1. Question 1 C#\n",
    "What data type is each of the following?\n",
    "5\n",
    "5.0\n",
    "5 > 1\n",
    "'5'\n",
    "5 * 2\n",
    "'5' * 2\n",
    "'5' + '2'\n",
    "5/2\n",
    "5%2\n",
    "{5, 2, 1}\n",
    "5 == 3\n",
    "Pi (the number)\n",
    "\n",
    "\n"
   ]
  },
  {
   "cell_type": "markdown",
   "id": "eb88dd54",
   "metadata": {},
   "source": [
    "int (value)\n",
    "double (value)\n",
    "boolean (value)\n",
    "char (value)\n",
    "int (value)\n",
    "int (value)\n",
    "string (reference)\n",
    "float (value)\n",
    "int (value)\n",
    "list \n",
    "boolean (value)\n",
    "double (value)\n"
   ]
  },
  {
   "cell_type": "markdown",
   "id": "0837490e",
   "metadata": {},
   "source": [
    "Q.2. Write (and evaluate) C# expressions that answer these questions:\n",
    "a. How many letters are there in 'Supercalifragilisticexpialidocious'?"
   ]
  },
  {
   "cell_type": "code",
   "execution_count": null,
   "id": "f5d4925f",
   "metadata": {},
   "outputs": [],
   "source": [
    "using System; //Visual Studio syntax\n",
    "public class letters\n",
    "{\n",
    "    public static void Main(string[] args)\n",
    "    {\n",
    "        string s = \"Supercalifragilisticexpialidocious\";\n",
    "        int t= s.Length;\n",
    "        Console.WriteLine(t);\n",
    "        \n",
    "    }\n",
    "}\n",
    "\n"
   ]
  },
  {
   "cell_type": "markdown",
   "id": "19104bee",
   "metadata": {},
   "source": [
    "   <img src=\"files/Q.2a.png\">\n",
    "  \n",
    "\n"
   ]
  },
  {
   "cell_type": "markdown",
   "id": "e274c685",
   "metadata": {},
   "source": [
    "b. Does 'Supercalifragilisticexpialidocious' contain 'ice' as a substring?"
   ]
  },
  {
   "cell_type": "code",
   "execution_count": null,
   "id": "94adfbe4",
   "metadata": {},
   "outputs": [],
   "source": [
    "using System; //Visual Studio syntax\n",
    "public class letters\n",
    "{\n",
    "    public static void Main(string[] args)\n",
    "    {\n",
    "        string s = \"Supercalifragilisticexpialidocious\";\n",
    "      \n",
    "        string s1 = \"ice\";\n",
    "        Console.WriteLine(s.Contains(s1));\n",
    "\n",
    "      \n",
    "\n",
    "    }\n",
    "}\n",
    "\n",
    "\n"
   ]
  },
  {
   "cell_type": "markdown",
   "id": "50e2ff7f",
   "metadata": {},
   "source": [
    "<img src=\"files/Q2b.png\">"
   ]
  },
  {
   "cell_type": "markdown",
   "id": "061052c1",
   "metadata": {},
   "source": [
    "c. Which of the following words is the longest:\n",
    "Supercalifragilisticexpialidocious, Honorificabilitudinitatibus, or\n",
    "Bababadalgharaghtakamminarronnkonn?"
   ]
  },
  {
   "cell_type": "code",
   "execution_count": null,
   "id": "0ec44eb0",
   "metadata": {},
   "outputs": [],
   "source": [
    "using System; //Visual Studio syntax\n",
    "using System.Linq;\n",
    "\n",
    "public class longest\n",
    "{\n",
    "    public static void Main(string[] args)\n",
    "    {\n",
    "\n",
    "        string s1 = \"Supercalifragilisticexpialidocious\", s2 = \"Honorificabilitudinitatibus\", s3 = \"Bababadalgharaghtakamminarronnkonn\";\n",
    "        if (s1.Length> s2.Length)\n",
    "        {\n",
    "            if (s1.Length>s3.Length)\n",
    "            {\n",
    "                Console.WriteLine(\"{0} is the longest\", s1);\n",
    "            }\n",
    "            else if (s1.Length == s3.Length)\n",
    "            {\n",
    "                Console.WriteLine(\"{0} {1} are the longest\", s1,s3);\n",
    "            }\n",
    "            else\n",
    "            {\n",
    "                Console.WriteLine(\"{0} is the longest\", s3);\n",
    "            }\n",
    "        }\n",
    "        else\n",
    "        {\n",
    "            if (s2.Length>s3.Length)\n",
    "            {\n",
    "                Console.WriteLine(\"{0} is the longest\", s2);\n",
    "            }\n",
    "            else if (s2.Length == s3.Length)\n",
    "            {\n",
    "                Console.WriteLine(\"{0} {1} are the longest\", s2, s3);\n",
    "            }\n",
    "            else\n",
    "            {\n",
    "                Console.WriteLine(\"{0} is the longest\", s3);\n",
    "            }\n",
    "        }\n",
    "    }\n",
    "}\n",
    "    \n"
   ]
  },
  {
   "cell_type": "markdown",
   "id": "138c61ad",
   "metadata": {},
   "source": [
    "<img src=\"files/Q2c.png\">"
   ]
  },
  {
   "cell_type": "markdown",
   "id": "f42cc120",
   "metadata": {},
   "source": [
    "d. Which composer comes first in the dictionary: 'Berlioz', 'Borodin', 'Brian',\n",
    "'Bartok', 'Bellini', 'Buxtehude', 'Bernstein'. Which one comes last?"
   ]
  },
  {
   "cell_type": "code",
   "execution_count": null,
   "id": "1b5faccc",
   "metadata": {},
   "outputs": [],
   "source": [
    "using System; //Visual studio syntax\n",
    "\n",
    "public class Dictionary\n",
    "{\n",
    "\n",
    "    public static void Main(string[] args)\n",
    "    {\n",
    "\n",
    "        SortedDictionary<string, string> names = new SortedDictionary<string, string>();\n",
    "        names.Add(\"1\", \"Bartok\");\n",
    "        names.Add(\"7\", \"Buxtehude\");\n",
    "        names.Add(\"2\", \"Bellini\");\n",
    "        names.Add(\"3\", \"Berlioz\");\n",
    "        names.Add(\"4\", \"Bernstein\");\n",
    "        names.Add(\"6\", \"Brian\");\n",
    "        names.Add(\"5\", \"Borodin\");\n",
    "\n",
    "        foreach (KeyValuePair<string, string> kv in names)\n",
    "        {\n",
    "            Console.WriteLine(kv.Key + \" \" + kv.Value);\n",
    "        }\n",
    "\n",
    "    }\n",
    "}"
   ]
  },
  {
   "cell_type": "markdown",
   "id": "6c6e2e48",
   "metadata": {},
   "source": [
    "<img src=\"files/Q2d.png\">"
   ]
  },
  {
   "cell_type": "markdown",
   "id": "eee8826f",
   "metadata": {},
   "source": [
    "Question 3 C#\n",
    "Implement function triangleArea(a,b,c) that takes as input the lengths of the 3\n",
    "sides of a triangle and returns the area of the triangle. By Heron's formula, the area\n",
    "of a triangle with side lengths a, b, and c is\n",
    "s(s - a)(s -b)(s -c), where\n",
    "s = (a +b + c) /2.\n",
    ">>> triangleArea(2,2,2)\n",
    "1.7320508075688772"
   ]
  },
  {
   "cell_type": "code",
   "execution_count": null,
   "id": "1095783a",
   "metadata": {},
   "outputs": [],
   "source": [
    "using System; //Visual Studio syntax\n",
    "\n",
    "\n",
    "    class Function\n",
    "{\n",
    "    static void triangleArea(double a, double b,double c)\n",
    "    {\n",
    "\n",
    "        double s = (a + b + c) / 2;\n",
    "        double Area;\n",
    "        Area = Math.Sqrt(s * (s - a) * (s - b) * (s - c));\n",
    "\n",
    "        Console.WriteLine(\"The Area of a triangle is {0}\", Area);\n",
    "\n",
    "    }\n",
    "    public static void Main(string[] args)\n",
    "    {\n",
    "        triangleArea(2,2,2);\n",
    "\n",
    "    }\n",
    "}\n"
   ]
  },
  {
   "cell_type": "markdown",
   "id": "4fe8c454",
   "metadata": {},
   "source": [
    "<img src=\"files/Q3.png\">"
   ]
  },
  {
   "cell_type": "markdown",
   "id": "df305f6a",
   "metadata": {},
   "source": [
    "Question 4 C#\n",
    "Write a program in C# Sharp to separate odd and even integers in separate arrays.\n",
    "Go to the editor\n",
    "Test Data :\n",
    "Input the number of elements to be stored in the array :5\n",
    "Input 5 elements in the array :\n",
    "element - 0 : 25\n",
    "element - 1 : 47\n",
    "element - 2 : 42\n",
    "element - 3 : 56\n",
    "element - 4 : 32\n",
    "Expected Output:\n",
    "The Even elements are:\n",
    "42 56 32\n",
    "The Odd elements are :\n",
    "25 47"
   ]
  },
  {
   "cell_type": "code",
   "execution_count": null,
   "id": "662bf780",
   "metadata": {},
   "outputs": [],
   "source": [
    "using System; //visual studio syntax\n",
    "\n",
    "public class oddeven\n",
    "{\n",
    "\n",
    "    public static void Main(string[] args)\n",
    "    {\n",
    "        int[] arr = new int[5];\n",
    "        arr[0] = 25;\n",
    "        arr[1] = 47;\n",
    "        arr[2] = 42;\n",
    "        arr[3] = 56;\n",
    "        arr[4] = 32;\n",
    "\n",
    "\n",
    "        Console.WriteLine(\"The Even elements are \");\n",
    "        for (int i = 0; i < 5; i++)\n",
    "        {\n",
    "            if (arr[i] % 2 == 0)\n",
    "            {\n",
    "\n",
    "                Console.WriteLine(arr[i]);\n",
    "\n",
    "            }\n",
    "        }\n",
    "        Console.WriteLine(\"The Odd elements are \");\n",
    "\n",
    "        for (int i = 0; i < 5; i++)\n",
    "        {\n",
    "            if (arr[i] % 2 != 0)\n",
    "            {\n",
    "\n",
    "                Console.WriteLine(arr[i]);\n",
    "\n",
    "            }\n",
    "\n",
    "        \n",
    "        }\n",
    "}   }\n"
   ]
  },
  {
   "cell_type": "markdown",
   "id": "ee4c138b",
   "metadata": {},
   "source": [
    "<img src=\"files/Q4.png\">"
   ]
  },
  {
   "cell_type": "markdown",
   "id": "e04bcf39",
   "metadata": {},
   "source": [
    "Question 5 C#\n",
    "a. Write a function inside(x,y,x1,y1,x2,y2) that returns True or False depending on whether the point (x,y) lies in the rectangle with lower left corner (x1,y1) and upper right corner (x2,y2).\n",
    ">>> inside(1,1,0,0,2,3)\n",
    "True\n",
    ">>> inside(-1,-1,0,0,2,3)\n",
    "False\n"
   ]
  },
  {
   "cell_type": "code",
   "execution_count": null,
   "id": "ab7f53c8",
   "metadata": {},
   "outputs": [],
   "source": [
    "using System; //visual studio syntax\n",
    "\n",
    "class rectangle\n",
    "{\n",
    "\n",
    "    static bool inside(int x, int y, int x1, int y1, int x2, int y2)\n",
    "    {\n",
    "        if (x > x1 && x < x2 &&\n",
    "            y > y1 && y < y2)\n",
    "            return true;\n",
    "\n",
    "        return false;\n",
    "    }\n",
    "    public static void Main(string[] args)\n",
    "    {\n",
    "        if (inside(-1, -1, 0, 0, 2, 3)) { \n",
    "        Console.WriteLine(\"True\"); }\n",
    "        else {\n",
    "            Console.WriteLine(\"False\"); }\n",
    "    }\n",
    "}"
   ]
  },
  {
   "cell_type": "markdown",
   "id": "90d4384d",
   "metadata": {},
   "source": [
    "<img src=\"files/Q5a.png\">"
   ]
  },
  {
   "cell_type": "markdown",
   "id": "8852cc6c",
   "metadata": {},
   "source": [
    "b. Use function inside() from part a. to write an expression that tests whether the point (1,1) lies in both of the following rectangles: one with lower left corner (0.3, 0.5) and upper right corner (1.1, 0.7) and the other with lower left corner (0.5, 0.2) and upper right corner (1.1, 2)."
   ]
  },
  {
   "cell_type": "code",
   "execution_count": null,
   "id": "76dc2a36",
   "metadata": {},
   "outputs": [],
   "source": [
    "using System; //visual studio syntax\n",
    "\n",
    "class rectangle\n",
    "{\n",
    "\n",
    "    static bool inside(int x, int y, double x1, double y1, double x2, double y2, double x3, double y3, double x4, double y4)\n",
    "    {\n",
    "        if (x > x1 && x < x2 && x<x3 && x<x4 &&\n",
    "            y > y1 && y < y2 && y<y3 && y<y4)\n",
    "            return true;\n",
    "\n",
    "        return false;\n",
    "    }\n",
    "    public static void Main(string[] args)\n",
    "    {\n",
    "        if (inside(1, 1, 0.3, 0.5, 1.1, 0.7, 0.5, 0.2, 1.1, 2))\n",
    "        {\n",
    "            Console.WriteLine(\"Lies inside\");\n",
    "        }\n",
    "        else\n",
    "        {\n",
    "            Console.WriteLine(\"Not lies inside\");\n",
    "        }\n",
    "    }\n",
    "}"
   ]
  },
  {
   "cell_type": "markdown",
   "id": "e7d85afc",
   "metadata": {},
   "source": [
    "<img src=\"files/Q5b.png\">"
   ]
  },
  {
   "cell_type": "markdown",
   "id": "c2a54b25",
   "metadata": {},
   "source": [
    "Question 6 Python\n",
    "16. You can turn a word into pig-Latin using the following two rules (simplified):\n",
    "• If the word starts with a consonant, move that letter to the end and append 'ay'. For example, 'happy' becomes 'appyhay' and 'pencil' becomes 'encilpay'.\n",
    "• If the word starts with a vowel, simply append 'way' to the end of the word. For example, 'enter' becomes 'enterway' and 'other' becomes 'otherway' . For our purposes, there are 5 vowels: a, e, i, o, u (so we count y as a consonant).\n",
    "Write a function pig() that takes a word (i.e., a string) as input and returns its pig-Latin form. Your function should still work if the input word contains upper case characters. Your output should always be lower case however.\n",
    ">>> pig('happy')\n",
    "'appyhay'\n",
    ">>> pig('Enter')\n",
    "'enterway'"
   ]
  },
  {
   "cell_type": "code",
   "execution_count": 1,
   "id": "cf6e8f77",
   "metadata": {},
   "outputs": [
    {
     "data": {
      "text/plain": [
       "'appyhay'"
      ]
     },
     "execution_count": 1,
     "metadata": {},
     "output_type": "execute_result"
    }
   ],
   "source": [
    "def pig(word):\n",
    "    if word[0] in ('A','E','I','O','U','a','e','i','o','u'):\n",
    "        pig_latin = word[0:] + \"way\"\n",
    "    else:\n",
    "        pig_latin = word[1:] + word[0] +\"ay\"\n",
    "    return pig_latin.lower()\n",
    "pig('happy')\n"
   ]
  },
  {
   "cell_type": "markdown",
   "id": "03bbf02c",
   "metadata": {},
   "source": [
    "Question 7 Python\n",
    "File bloodtype1.txt records blood-types of patients (A, B, AB, O or OO) at a clinic. Write a function bldcount() that reads the file with name name and reports (i.e., prints) how many patients there are in each bloodtype.\n",
    ">>> bldcount('bloodtype.txt')\n",
    "There are 10 patients of blood type A.\n",
    "There is one patient of blood type B.\n",
    "There are 10 patients of blood type AB.\n",
    "There are 12 patients of blood type O.\n",
    "There are no patients of blood type OO."
   ]
  },
  {
   "cell_type": "code",
   "execution_count": 21,
   "id": "db055b11",
   "metadata": {},
   "outputs": [
    {
     "ename": "NameError",
     "evalue": "name 'line' is not defined",
     "output_type": "error",
     "traceback": [
      "\u001b[0;31m---------------------------------------------------------------------------\u001b[0m",
      "\u001b[0;31mNameError\u001b[0m                                 Traceback (most recent call last)",
      "\u001b[0;32m/var/folders/s1/k160dgtd6n1dy6p4zb2kd18m0000gn/T/ipykernel_7348/1625243800.py\u001b[0m in \u001b[0;36m<module>\u001b[0;34m\u001b[0m\n\u001b[1;32m      6\u001b[0m \u001b[0mblood_groups\u001b[0m \u001b[0;34m=\u001b[0m \u001b[0;34m{\u001b[0m\u001b[0;34m'A'\u001b[0m\u001b[0;34m,\u001b[0m\u001b[0;34m'B'\u001b[0m\u001b[0;34m,\u001b[0m\u001b[0;34m'AB'\u001b[0m\u001b[0;34m,\u001b[0m\u001b[0;34m'O'\u001b[0m\u001b[0;34m,\u001b[0m\u001b[0;34m'OO'\u001b[0m\u001b[0;34m}\u001b[0m\u001b[0;34m\u001b[0m\u001b[0;34m\u001b[0m\u001b[0m\n\u001b[1;32m      7\u001b[0m \u001b[0;32mfor\u001b[0m \u001b[0mi\u001b[0m \u001b[0;32min\u001b[0m \u001b[0mblood_groups\u001b[0m\u001b[0;34m:\u001b[0m\u001b[0;34m\u001b[0m\u001b[0;34m\u001b[0m\u001b[0m\n\u001b[0;32m----> 8\u001b[0;31m     \u001b[0ml\u001b[0m \u001b[0;34m=\u001b[0m \u001b[0mline\u001b[0m\u001b[0;34m.\u001b[0m\u001b[0mcount\u001b[0m\u001b[0;34m(\u001b[0m\u001b[0mi\u001b[0m\u001b[0;34m)\u001b[0m\u001b[0;34m\u001b[0m\u001b[0;34m\u001b[0m\u001b[0m\n\u001b[0m\u001b[1;32m      9\u001b[0m     \u001b[0mprint\u001b[0m \u001b[0;34m(\u001b[0m\u001b[0;34mf\"There are {l} patients of blood type '{i}'\"\u001b[0m\u001b[0;34m)\u001b[0m\u001b[0;34m\u001b[0m\u001b[0;34m\u001b[0m\u001b[0m\n",
      "\u001b[0;31mNameError\u001b[0m: name 'line' is not defined"
     ]
    }
   ],
   "source": [
    "def Bldcount():\n",
    "    infile = open('bloodtype1.txt')  #Don't know what happened to it now. Same code ran perfectly \n",
    "                                        #an hour ago when I was doing it.  \n",
    "                                    #Screenshot is attached in the below cell. I hope you can understand.\n",
    "    line = infile.readline()\n",
    "blood_groups = {'A','B','AB','O','OO'}\n",
    "for i in blood_groups:\n",
    "    l = line.count(i)\n",
    "    print (f\"There are {l} patients of blood type '{i}'\")"
   ]
  },
  {
   "cell_type": "markdown",
   "id": "dba4d8b1",
   "metadata": {},
   "source": [
    "<img src=\"files/P.png\">"
   ]
  },
  {
   "cell_type": "markdown",
   "id": "8b32ff39",
   "metadata": {},
   "source": [
    "Question 8 Python\n",
    "Write a function curconv() that takes as input:\n",
    "1. a currency represented using a string (e.g., 'JPY' for the Japanese Yen or 'EUR' for the Euro)\n",
    "2. an amount\n",
    "and then converts and returns the amount in US dollars.\n",
    ">>> curconv('EUR', 100)\n",
    "122.96544\n",
    ">>> curconv('JPY', 100)\n",
    "1.241401\n",
    "The currency rates you will need are stored in file currencies.txt:"
   ]
  },
  {
   "cell_type": "code",
   "execution_count": 10,
   "id": "7d5eff93",
   "metadata": {},
   "outputs": [],
   "source": [
    "def curconv():\n",
    "    infile = open('currencies.txt')\n",
    "    line = infile.readlines()\n",
    "    "
   ]
  },
  {
   "cell_type": "code",
   "execution_count": null,
   "id": "8637c694",
   "metadata": {},
   "outputs": [],
   "source": []
  },
  {
   "cell_type": "markdown",
   "id": "69ba8da3",
   "metadata": {},
   "source": [
    "Question 9 Python\n",
    "Each of the following will cause an exception (an error). Identify what type of exception each will cause.\n",
    "Trying to add incompatible variables, as in adding 6 + ‘a’\n",
    "Referring to the 12th item of a list that has only 10 items\n",
    "Using a value that is out of range for a function’s input, such as calling math.sqrt( 1.0)\n",
    "Using an undeclared variable, such as p rint(x) when x has not been defined\n",
    "Trying to open a file that does not exist, such as mistyping the file name or looking in the wrong directory."
   ]
  },
  {
   "cell_type": "markdown",
   "id": "d93d8f0b",
   "metadata": {},
   "source": [
    "ValueError\n",
    "Overflow Error\n",
    "IndexError\n",
    "NameError\n",
    "Syntax Error"
   ]
  },
  {
   "cell_type": "markdown",
   "id": "946d3918",
   "metadata": {},
   "source": [
    "Question 10 Python\n",
    "Encryption is the process of hiding the meaning of a text by substituting letters in the message with other letters, according to some system. If the process is successful, no one but the intended recipient can understand the encrypted message. Cryptanalysis refers to attempts to undo the encryption, even if some details of the encryption are unknown (for example, if an encrypted message has been intercepted). The first step of cryptanalysis is often to build up a table of letter frequencies in the encrypted text. Assume that the string letters is already defined as 'abcdefghijklmnopqrstuvwxyz'. Write a function called frequencies() that takes a string as its only parameter, and returns a list of integers, showing the number of times each character appears in the text. Your function may ignore any characters that are not in letters.\n",
    ">>> frequencies('The quick red fox got bored and went home.')\n",
    "[1, 1, 1, 3, 5, 1, 1, 2, 1, 0, 1, 0, 1, 2, 4, 0, 1, 2, 0, 2, 1, 0, 1, 1, 0, 0]\n",
    ">>> frequencies('apple')"
   ]
  },
  {
   "cell_type": "code",
   "execution_count": 19,
   "id": "e53f90fa",
   "metadata": {},
   "outputs": [
    {
     "ename": "NameError",
     "evalue": "name 't_str' is not defined",
     "output_type": "error",
     "traceback": [
      "\u001b[0;31m---------------------------------------------------------------------------\u001b[0m",
      "\u001b[0;31mNameError\u001b[0m                                 Traceback (most recent call last)",
      "\u001b[0;32m/var/folders/s1/k160dgtd6n1dy6p4zb2kd18m0000gn/T/ipykernel_7348/795730479.py\u001b[0m in \u001b[0;36m<module>\u001b[0;34m\u001b[0m\n\u001b[1;32m      2\u001b[0m     \u001b[0mt_str\u001b[0m \u001b[0;34m=\u001b[0m \u001b[0;34m\"apple\"\u001b[0m\u001b[0;34m\u001b[0m\u001b[0;34m\u001b[0m\u001b[0m\n\u001b[1;32m      3\u001b[0m \u001b[0mall_freq\u001b[0m \u001b[0;34m=\u001b[0m \u001b[0;34m{\u001b[0m\u001b[0;34m}\u001b[0m\u001b[0;34m\u001b[0m\u001b[0;34m\u001b[0m\u001b[0m\n\u001b[0;32m----> 4\u001b[0;31m \u001b[0;32mfor\u001b[0m \u001b[0mi\u001b[0m \u001b[0;32min\u001b[0m \u001b[0mt_str\u001b[0m\u001b[0;34m:\u001b[0m\u001b[0;34m\u001b[0m\u001b[0;34m\u001b[0m\u001b[0m\n\u001b[0m\u001b[1;32m      5\u001b[0m         \u001b[0;32mif\u001b[0m \u001b[0mi\u001b[0m \u001b[0;32min\u001b[0m \u001b[0mall_freq\u001b[0m\u001b[0;34m:\u001b[0m\u001b[0;34m\u001b[0m\u001b[0;34m\u001b[0m\u001b[0m\n\u001b[1;32m      6\u001b[0m             \u001b[0mall_freq\u001b[0m\u001b[0;34m[\u001b[0m\u001b[0mi\u001b[0m\u001b[0;34m]\u001b[0m \u001b[0;34m+=\u001b[0m \u001b[0;36m1\u001b[0m\u001b[0;34m\u001b[0m\u001b[0;34m\u001b[0m\u001b[0m\n",
      "\u001b[0;31mNameError\u001b[0m: name 't_str' is not defined"
     ]
    }
   ],
   "source": [
    "def frequencies():\n",
    "    t_str = \"apple\"\n",
    "all_freq = {}                   #took some help from geeeks for geeks in this question\n",
    "                                #https://www.geeksforgeeks.org/python-frequency-of-each-character-in-string/\n",
    "for i in t_str:\n",
    "        if i in all_freq:\n",
    "            all_freq[i] += 1\n",
    "        else:\n",
    "            all_freq[i] = 1\n",
    "\n",
    "print(\"apple\" + str(all_freq))\n"
   ]
  },
  {
   "cell_type": "code",
   "execution_count": null,
   "id": "e0f264a1",
   "metadata": {},
   "outputs": [],
   "source": []
  }
 ],
 "metadata": {
  "kernelspec": {
   "display_name": "Python 3 (ipykernel)",
   "language": "python",
   "name": "python3"
  },
  "language_info": {
   "codemirror_mode": {
    "name": "ipython",
    "version": 3
   },
   "file_extension": ".py",
   "mimetype": "text/x-python",
   "name": "python",
   "nbconvert_exporter": "python",
   "pygments_lexer": "ipython3",
   "version": "3.9.7"
  }
 },
 "nbformat": 4,
 "nbformat_minor": 5
}
